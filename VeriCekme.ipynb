{
 "cells": [
  {
   "cell_type": "code",
   "execution_count": 31,
   "id": "cf6357ea",
   "metadata": {},
   "outputs": [],
   "source": [
    "from bs4 import BeautifulSoup\n",
    "import pandas as pd\n",
    "import requests"
   ]
  },
  {
   "cell_type": "code",
   "execution_count": 33,
   "id": "e3ec81d9",
   "metadata": {
    "scrolled": true
   },
   "outputs": [],
   "source": [
    "liste = []\n",
    "\n",
    "a = 1\n",
    "while a <= 50:\n",
    "\n",
    "    URL=\"https://www.dr.com.tr/CokSatanlar/Kitap?_gl=1*3k3q8z*_up*MQ..&gclid=CjwKCAjwoa2xBhACEiwA1sb1BMlrKxhB-PSw3QfYDqYK4ALFGcajFOcLNuqeBInmcB9KaEepDJ1AshoC8nUQAvD_BwE&gclsrc=aw.ds&Page=\"+str(a)+\"\"\n",
    "\n",
    "    r=requests.get(URL)\n",
    "    soup = BeautifulSoup(r.content,'html.parser')\n",
    "\n",
    "    dokuman1 = soup.find(\"div\",{\"class\":\"facet__products-list js-facet-product-list\"})\n",
    "    dokuman2 = dokuman1.find_all(\"div\",{\"class\":\"product-img\"})\n",
    "\n",
    "\n",
    "    for detaylar in dokuman2:\n",
    "        link_sonu = detaylar.a.get(\"href\")\n",
    "        link_bası = \"https://www.dr.com.tr\"\n",
    "        link = link_bası+link_sonu\n",
    "\n",
    "        r1 = requests.get(link)\n",
    "        soup1 = BeautifulSoup(r1.content,\"html.parser\")\n",
    "\n",
    "\n",
    "        fiyat = soup1.find(\"div\",{\"class\":\"salePrice\"})\n",
    "        yeni_fiyat = fiyat.find(\"span\",{\"class\":\"current-price js-text-current-price\"}).text\n",
    "\n",
    "        try:\n",
    "            orijinal_fiyat = fiyat.find(\"span\",{\"class\":\"lowest-price\"}).text\n",
    "        except:\n",
    "            orijinal_fiyat = yeni_fiyat\n",
    "\n",
    "            \n",
    "        try:\n",
    "            oran = soup1.find(\"div\",{\"class\":\"lowestPrice\"})\n",
    "            indirim_oranı = oran.find(\"span\",{\"class\":\"lowest-rate\"}).text\n",
    "        except:\n",
    "            indirim_oranı = \"\"\n",
    "\n",
    "\n",
    "\n",
    "        try:\n",
    "            degerlendirme1 = soup1.find(\"div\",{\"class\":\"prd-rate-title-wrapper mt-5 dr-flex-start js-scroll-comment scroll-trigger-comment\"})\n",
    "            degerlendirme2 = int((degerlendirme1.find(\"span\").text.replace(\"(\",\"\").replace(\")\",\"\")))\n",
    "        except:\n",
    "            degerlendirme2 = 0\n",
    "\n",
    "\n",
    "        soup2 = soup1.find(\"div\",{\"class\":\"product-property\"}).find_all(\"li\")\n",
    "        for detay in soup2:\n",
    "            key = detay.find_all(\"strong\")[0].text.strip().replace(\"'\",\"\").replace(\"'\",\"\")\n",
    "            value = detay.find_all(\"span\")[0].text.strip()\n",
    "\n",
    "            if key == \"Kitap Adı:\":\n",
    "                kitap_adı = value\n",
    "            elif key == \"Yazar:\":\n",
    "                yazar = value\n",
    "            elif key == \"Yayınevi:\":\n",
    "                yayınevi = value\n",
    "            elif key == \"Hamur Tipi:\":\n",
    "                hamur_tipi = value\n",
    "            elif key == \"Sayfa Sayısı:\":\n",
    "                try:\n",
    "                    sayfa_sayısı = int(value)\n",
    "                except:\n",
    "                    sayfa_sayısı = 0\n",
    "            elif key == \"Ebat:\":\n",
    "                ebat = value\n",
    "            elif key == \"İlk Baskı Yılı:\":\n",
    "                ilk_baskı_yılı = int(value)\n",
    "            elif key == \"Baskı Sayısı:\":\n",
    "                baskı_sayısı = value\n",
    "            elif key == \"Dil:\":\n",
    "                dil = value\n",
    "            elif key == \"Barkod:\":\n",
    "                barkod = value\n",
    "            else:\n",
    "                \"\"\n",
    "\n",
    "\n",
    "        foto1 = soup1.find(\"div\",{\"class\":\"swiper-wrapper js-container-detail-swiper\"})\n",
    "        foto2 = foto1.img.get(\"src\")\n",
    "        \n",
    "        liste.append([barkod,kitap_adı,yazar,yayınevi,sayfa_sayısı,hamur_tipi,ebat,ilk_baskı_yılı,baskı_sayısı,degerlendirme2,dil,yeni_fiyat,orijinal_fiyat,indirim_oranı,foto2,link])\n",
    "        \n",
    "    a = a+1"
   ]
  },
  {
   "cell_type": "code",
   "execution_count": 34,
   "id": "7cd48ed1",
   "metadata": {},
   "outputs": [],
   "source": [
    "dataFrame = pd.DataFrame(liste)\n",
    "dataFrame.columns = [\"barkod\",\"ürün_adı\",\"yazar\",\"yayınevi\",\"sayfa\",\"hamur_tipi\",\"ebat\",\"ilk_baskı_yılı\",\"baskı_sayısı\",\"degerlendirme_sayısı\",\"dil\",\"yeni_fiyat\",\"orijinal_fiyat\",\"indirim_oranı\",\"fotoğraf\",\"link\"]"
   ]
  },
  {
   "cell_type": "code",
   "execution_count": 36,
   "id": "b7ab84d3",
   "metadata": {},
   "outputs": [],
   "source": [
    "dataFrame.to_excel(\"DR_Kitap_Veri.xlsx\")"
   ]
  },
  {
   "cell_type": "code",
   "execution_count": null,
   "id": "2e215848",
   "metadata": {},
   "outputs": [],
   "source": []
  }
 ],
 "metadata": {
  "kernelspec": {
   "display_name": "Python 3 (ipykernel)",
   "language": "python",
   "name": "python3"
  },
  "language_info": {
   "codemirror_mode": {
    "name": "ipython",
    "version": 3
   },
   "file_extension": ".py",
   "mimetype": "text/x-python",
   "name": "python",
   "nbconvert_exporter": "python",
   "pygments_lexer": "ipython3",
   "version": "3.11.3"
  }
 },
 "nbformat": 4,
 "nbformat_minor": 5
}
